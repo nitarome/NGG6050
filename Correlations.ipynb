{
 "cells": [
  {
   "cell_type": "code",
   "execution_count": 1,
   "id": "a680b32b-7e69-4abb-af56-ba27bf56f4f2",
   "metadata": {},
   "outputs": [],
   "source": [
    "import numpy as np\n",
    "import matplotlib.pyplot as plt\n",
    "import scipy.stats as st\n",
    "from statsmodels.stats.power import TTestIndPower"
   ]
  },
  {
   "cell_type": "code",
   "execution_count": 2,
   "id": "dca69c50-8bae-46c0-95ad-a5fc828bde45",
   "metadata": {},
   "outputs": [],
   "source": [
    "list1 = [10.4, 10.8, 11.1, 10.2, 10.3, 10.2, 10.7, 10.5, 10.8, 11.2, 10.6, 11.4]\n",
    "list2 = [7.4, 7.6, 7.9, 7.2, 7.4, 7.1, 7.4, 7.2, 7.8, 7.7, 7.8, 8.3]"
   ]
  },
  {
   "cell_type": "code",
   "execution_count": 6,
   "id": "c4d6cd0c-f815-4365-9404-68a26a558f8f",
   "metadata": {},
   "outputs": [
    {
     "data": {
      "text/plain": [
       "[<matplotlib.lines.Line2D at 0x29b85eae0>]"
      ]
     },
     "execution_count": 6,
     "metadata": {},
     "output_type": "execute_result"
    },
    {
     "data": {
      "image/png": "[encoded data removed]",
      "text/plain": [
       "<Figure size 640x480 with 1 Axes>"
      ]
     },
     "metadata": {},
     "output_type": "display_data"
    }
   ],
   "source": [
    "plt.plot(list1,list2, marker = \".\", linestyle = \"None\")"
   ]
  },
  {
   "cell_type": "code",
   "execution_count": 26,
   "id": "2fd5afab-f2ab-4dc8-827d-cbd04fb474a9",
   "metadata": {},
   "outputs": [],
   "source": [
    "def r_fun (array1 = list1, array2 = list2):\n",
    "    if type(array1)!= np.ndarray:\n",
    "        array1 = np.array(array1)\n",
    "    if type(array2)!= np.ndarray:\n",
    "        array2 = np.array(array2)\n",
    "\n",
    "    xbar = np.mean(array1)\n",
    "    ybar = np.mean(array2)\n",
    "    demeaned1 = array1-xbar\n",
    "    demeaned2 = array2-ybar\n",
    "\n",
    "    numerator = np.sum(demeaned1*demeaned2)\n",
    "    denominator = np.sqrt(np.sum((demeaned1)**2)) * np.sqrt(np.sum((demeaned2)**2))\n",
    "    return(numerator/denominator)\n",
    "    "
   ]
  },
  {
   "cell_type": "code",
   "execution_count": 29,
   "id": "924c3ce7-f86b-4ae3-9562-b70609f9ef00",
   "metadata": {},
   "outputs": [
    {
     "data": {
      "text/plain": [
       "0.8703545613058227"
      ]
     },
     "execution_count": 29,
     "metadata": {},
     "output_type": "execute_result"
    }
   ],
   "source": [
    "r = r_fun()\n",
    "r"
   ]
  },
  {
   "cell_type": "code",
   "execution_count": 31,
   "id": "7b2349ed-da0e-4374-a817-4ee8b1f1757c",
   "metadata": {},
   "outputs": [
    {
     "data": {
      "text/plain": [
       "array([[1.        , 0.87035456],\n",
       "       [0.87035456, 1.        ]])"
      ]
     },
     "execution_count": 31,
     "metadata": {},
     "output_type": "execute_result"
    }
   ],
   "source": [
    "np.corrcoef(x = list1, y = list2)"
   ]
  },
  {
   "cell_type": "code",
   "execution_count": 35,
   "id": "c5c6e1f4-3367-4205-919a-4965203adef3",
   "metadata": {},
   "outputs": [],
   "source": [
    "sr = np.sqrt((1-r**2)/(len(array1)-2))"
   ]
  },
  {
   "cell_type": "code",
   "execution_count": 36,
   "id": "da6458e6-c74d-428c-9228-f75d206860fa",
   "metadata": {},
   "outputs": [
    {
     "data": {
      "text/plain": [
       "0.15571863652567375"
      ]
     },
     "execution_count": 36,
     "metadata": {},
     "output_type": "execute_result"
    }
   ],
   "source": [
    "sr"
   ]
  },
  {
   "cell_type": "code",
   "execution_count": 40,
   "id": "e0cb6ae5-efb7-4e86-8e68-24433d46aca4",
   "metadata": {},
   "outputs": [
    {
     "data": {
      "text/plain": [
       "0.0002311059431205731"
      ]
     },
     "execution_count": 40,
     "metadata": {},
     "output_type": "execute_result"
    }
   ],
   "source": [
    "t = r/sr\n",
    "df = len(array1)-2\n",
    "p_value = st.t.sf(abs(t), df)\n",
    "p_value *= 2\n",
    "p_value"
   ]
  },
  {
   "cell_type": "code",
   "execution_count": 39,
   "id": "6dfb379b-5425-48ca-8763-ba563a107ee3",
   "metadata": {},
   "outputs": [
    {
     "data": {
      "text/plain": [
       "5.589276792584329"
      ]
     },
     "execution_count": 39,
     "metadata": {},
     "output_type": "execute_result"
    }
   ],
   "source": []
  },
  {
   "cell_type": "code",
   "execution_count": null,
   "id": "01d2c1a4-2745-4c29-a311-14d7223677be",
   "metadata": {},
   "outputs": [],
   "source": []
  }
 ],
 "metadata": {
  "kernelspec": {
   "display_name": "Python 3 (ipykernel)",
   "language": "python",
   "name": "python3"
  },
  "language_info": {
   "codemirror_mode": {
    "name": "ipython",
    "version": 3
   },
   "file_extension": ".py",
   "mimetype": "text/x-python",
   "name": "python",
   "nbconvert_exporter": "python",
   "pygments_lexer": "ipython3",
   "version": "3.12.2"
  }
 },
 "nbformat": 4,
 "nbformat_minor": 5
}
