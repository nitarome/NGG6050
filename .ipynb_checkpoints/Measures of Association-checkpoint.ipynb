{
 "cells": [
  {
   "cell_type": "code",
   "execution_count": 15,
   "id": "256925cb-27e1-411b-b976-beb5afa4e69b",
   "metadata": {},
   "outputs": [],
   "source": [
    "import numpy as np\n",
    "import matplotlib.pyplot as plt\n",
    "import scipy.stats as st\n",
    "import statsmodels.api as sm"
   ]
  },
  {
   "cell_type": "code",
   "execution_count": 38,
   "id": "00372ca2-9647-4773-aa48-7c5dcc02f6a5",
   "metadata": {},
   "outputs": [],
   "source": [
    "age = np.array([3, 4, 5, 6, 7, 8, 9, 11, 12, 14, 15, 16, 17])\n",
    "wing = np.array([1.4, 1.5, 2.2, 2.4, 3.1, 3.2, 3.2, 3.9, 4.1, 4.7, 4.5, 5.2, 5.0])"
   ]
  },
  {
   "cell_type": "markdown",
   "id": "b959f0a3-d077-4be9-9088-3dc79e6f47d5",
   "metadata": {},
   "source": [
    "1. Plot the relationship between Age and Wing Length.\n",
    "2. Calculate and plot the regression line.\n",
    "3. Can you reject the null hyp?\n",
    "4. Calculate and plot the confidence intervals on the slope of the regression.\n",
    "5. Calculate r^2\n",
    " (the coefficient of determination)\n",
    "6. Calculate Pearson's r.\n",
    "7. Add some noise to the data and see how the regression changes."
   ]
  },
  {
   "cell_type": "markdown",
   "id": "ee7974f4-1d90-45b4-aa16-714e5eaf8e9e",
   "metadata": {},
   "source": [
    "## 1"
   ]
  },
  {
   "cell_type": "code",
   "execution_count": 14,
   "id": "3793bc09-c1af-40d1-8243-945ef27370b8",
   "metadata": {},
   "outputs": [
    {
     "data": {
      "text/plain": [
       "Text(0, 0.5, 'Wing Length')"
      ]
     },
     "execution_count": 14,
     "metadata": {},
     "output_type": "execute_result"
    },
    {
     "data": {
      "image/png": "[encoded data removed]",
      "text/plain": [
       "<Figure size 640x480 with 1 Axes>"
      ]
     },
     "metadata": {},
     "output_type": "display_data"
    }
   ],
   "source": [
    "plt.plot(age,wing, marker = \".\", linestyle = \"none\")\n",
    "plt.xlabel(\"Age\")\n",
    "plt.ylabel(\"Wing Length\")"
   ]
  },
  {
   "cell_type": "markdown",
   "id": "673f4cbf-9e57-40be-9a30-1fcac6506594",
   "metadata": {},
   "source": [
    "## 2"
   ]
  },
  {
   "cell_type": "code",
   "execution_count": 48,
   "id": "21bd52c1-4002-43aa-a175-4d865f37a8b3",
   "metadata": {},
   "outputs": [],
   "source": [
    "X = age.reshape(-1, 1)\n",
    "X = sm.add_constant(X)  # Adds a constant term (intercept) to the model\n",
    "model = sm.OLS(wing,X)  # OLS stands for Ordinary Least Squares\n",
    "results = model.fit()  # Fit the model"
   ]
  },
  {
   "cell_type": "code",
   "execution_count": 50,
   "id": "eec911d0-879e-444a-9b3e-ffd0a9f4799f",
   "metadata": {},
   "outputs": [
    {
     "name": "stdout",
     "output_type": "stream",
     "text": [
      "                            OLS Regression Results                            \n",
      "==============================================================================\n",
      "Dep. Variable:                      y   R-squared:                       0.963\n",
      "Model:                            OLS   Adj. R-squared:                  0.960\n",
      "Method:                 Least Squares   F-statistic:                     289.4\n",
      "Date:                Sun, 29 Sep 2024   Prob (F-statistic):           3.01e-09\n",
      "Time:                        12:06:56   Log-Likelihood:                0.36312\n",
      "No. Observations:                  13   AIC:                             3.274\n",
      "Df Residuals:                      11   BIC:                             4.404\n",
      "Df Model:                           1                                         \n",
      "Covariance Type:            nonrobust                                         \n",
      "==============================================================================\n",
      "                 coef    std err          t      P>|t|      [0.025      0.975]\n",
      "------------------------------------------------------------------------------\n",
      "const          0.8296      0.168      4.946      0.000       0.460       1.199\n",
      "x1             0.2647      0.016     17.012      0.000       0.230       0.299\n",
      "==============================================================================\n",
      "Omnibus:                        0.558   Durbin-Watson:                   1.621\n",
      "Prob(Omnibus):                  0.757   Jarque-Bera (JB):                0.572\n",
      "Skew:                          -0.186   Prob(JB):                        0.751\n",
      "Kurtosis:                       2.042   Cond. No.                         25.7\n",
      "==============================================================================\n",
      "\n",
      "Notes:\n",
      "[1] Standard Errors assume that the covariance matrix of the errors is correctly specified.\n"
     ]
    },
    {
     "name": "stderr",
     "output_type": "stream",
     "text": [
      "/opt/anaconda3/lib/python3.12/site-packages/scipy/stats/_stats_py.py:1971: UserWarning: kurtosistest only valid for n>=20 ... continuing anyway, n=13\n",
      "  k, _ = kurtosistest(a, axis)\n"
     ]
    }
   ],
   "source": [
    "print(results.summary())"
   ]
  },
  {
   "cell_type": "markdown",
   "id": "51a9431e-3594-4dfb-8427-c01d9a9e6b24",
   "metadata": {},
   "source": [
    "## 3"
   ]
  },
  {
   "cell_type": "markdown",
   "id": "2b9e7549-e546-4fe3-8b15-80c1793e7b5b",
   "metadata": {},
   "source": [
    "Yes, can reject the null hypothesis because P of the slope (indicated in x1) is <0.05\n"
   ]
  },
  {
   "cell_type": "markdown",
   "id": "dcec93aa-2e38-493f-8aa5-3689aa996cf9",
   "metadata": {},
   "source": [
    "## 4"
   ]
  },
  {
   "cell_type": "code",
   "execution_count": 54,
   "id": "3da0f07e-51f9-4b4d-9109-1fb4d7b36f79",
   "metadata": {},
   "outputs": [
    {
     "data": {
      "text/plain": [
       "array([[0.46042944, 1.19881928],\n",
       "       [0.23043928, 0.29892896]])"
      ]
     },
     "execution_count": 54,
     "metadata": {},
     "output_type": "execute_result"
    }
   ],
   "source": [
    "conf_intervals = results.conf_int()\n",
    "conf_intervals"
   ]
  },
  {
   "cell_type": "code",
   "execution_count": 56,
   "id": "951866e4-9554-4f11-b760-0afae549afa7",
   "metadata": {},
   "outputs": [],
   "source": [
    "slope_conf_interval = conf_intervals[1]"
   ]
  },
  {
   "cell_type": "code",
   "execution_count": 65,
   "id": "20333771-3cc9-4166-9327-032775230bec",
   "metadata": {},
   "outputs": [
    {
     "name": "stdout",
     "output_type": "stream",
     "text": [
      "Slope confidence interval: [0.23043928 0.29892896]\n"
     ]
    },
    {
     "data": {
      "text/plain": [
       "Text(0.5, 1.0, 'Regression Line with Confidence Interval on Slope')"
      ]
     },
     "execution_count": 65,
     "metadata": {},
     "output_type": "execute_result"
    },
    {
     "data": {
      "image/png": "[encoded data removed]",
      "text/plain": [
       "<Figure size 640x480 with 1 Axes>"
      ]
     },
     "metadata": {},
     "output_type": "display_data"
    }
   ],
   "source": [
    "#from CHATGPT\n",
    "\n",
    "\n",
    "# Get the regression parameters (slope and intercept)\n",
    "slope = results.params[1]\n",
    "intercept = results.params[0]\n",
    "\n",
    "# Get the confidence intervals for the slope and intercept\n",
    "conf_intervals = results.conf_int()\n",
    "\n",
    "# Extract the confidence intervals for the slope\n",
    "slope_conf_interval = conf_intervals[1]\n",
    "print(f\"Slope confidence interval: {slope_conf_interval}\")\n",
    "\n",
    "# Plotting the data points\n",
    "plt.scatter(age, wing, label=\"Data points\", color=\"blue\")\n",
    "\n",
    "# Plotting the regression line\n",
    "plt.plot(age, intercept + slope * age, color=\"red\", label=\"Regression line\")\n",
    "\n",
    "# Calculate confidence intervals for the regression line\n",
    "predictions = results.get_prediction(X)\n",
    "pred_summary = predictions.summary_frame(alpha=0.05)\n",
    "\n",
    "# Plot the confidence interval bands\n",
    "plt.fill_between(age, pred_summary['mean_ci_lower'], pred_summary['mean_ci_upper'], color='gray', alpha=0.3, label=\"Confidence interval\")\n",
    "\n",
    "plt.xlabel('Age')\n",
    "plt.ylabel('Wing Length')\n",
    "plt.legend()\n",
    "plt.title('Regression Line with Confidence Interval on Slope')\n"
   ]
  },
  {
   "cell_type": "code",
   "execution_count": 64,
   "id": "c7233a86-cda4-45bb-9560-b78a654c998c",
   "metadata": {},
   "outputs": [
    {
     "data": {
      "text/html": [
       "<div>\n",
       "<style scoped>\n",
       "    .dataframe tbody tr th:only-of-type {\n",
       "        vertical-align: middle;\n",
       "    }\n",
       "\n",
       "    .dataframe tbody tr th {\n",
       "        vertical-align: top;\n",
       "    }\n",
       "\n",
       "    .dataframe thead th {\n",
       "        text-align: right;\n",
       "    }\n",
       "</style>\n",
       "<table border=\"1\" class=\"dataframe\">\n",
       "  <thead>\n",
       "    <tr style=\"text-align: right;\">\n",
       "      <th></th>\n",
       "      <th>mean</th>\n",
       "      <th>mean_se</th>\n",
       "      <th>mean_ci_lower</th>\n",
       "      <th>mean_ci_upper</th>\n",
       "      <th>obs_ci_lower</th>\n",
       "      <th>obs_ci_upper</th>\n",
       "    </tr>\n",
       "  </thead>\n",
       "  <tbody>\n",
       "    <tr>\n",
       "      <th>0</th>\n",
       "      <td>1.623677</td>\n",
       "      <td>0.126989</td>\n",
       "      <td>1.344176</td>\n",
       "      <td>1.903177</td>\n",
       "      <td>0.995097</td>\n",
       "      <td>2.252257</td>\n",
       "    </tr>\n",
       "    <tr>\n",
       "      <th>1</th>\n",
       "      <td>1.888361</td>\n",
       "      <td>0.114415</td>\n",
       "      <td>1.636535</td>\n",
       "      <td>2.140187</td>\n",
       "      <td>1.271588</td>\n",
       "      <td>2.505134</td>\n",
       "    </tr>\n",
       "    <tr>\n",
       "      <th>2</th>\n",
       "      <td>2.153045</td>\n",
       "      <td>0.102663</td>\n",
       "      <td>1.927085</td>\n",
       "      <td>2.379005</td>\n",
       "      <td>1.546374</td>\n",
       "      <td>2.759716</td>\n",
       "    </tr>\n",
       "    <tr>\n",
       "      <th>3</th>\n",
       "      <td>2.417729</td>\n",
       "      <td>0.092048</td>\n",
       "      <td>2.215134</td>\n",
       "      <td>2.620324</td>\n",
       "      <td>1.819367</td>\n",
       "      <td>3.016091</td>\n",
       "    </tr>\n",
       "    <tr>\n",
       "      <th>4</th>\n",
       "      <td>2.682413</td>\n",
       "      <td>0.083006</td>\n",
       "      <td>2.499719</td>\n",
       "      <td>2.865107</td>\n",
       "      <td>2.090493</td>\n",
       "      <td>3.274333</td>\n",
       "    </tr>\n",
       "    <tr>\n",
       "      <th>5</th>\n",
       "      <td>2.947097</td>\n",
       "      <td>0.076100</td>\n",
       "      <td>2.779602</td>\n",
       "      <td>3.114593</td>\n",
       "      <td>2.359690</td>\n",
       "      <td>3.534504</td>\n",
       "    </tr>\n",
       "    <tr>\n",
       "      <th>6</th>\n",
       "      <td>3.211781</td>\n",
       "      <td>0.071950</td>\n",
       "      <td>3.053421</td>\n",
       "      <td>3.370142</td>\n",
       "      <td>2.626914</td>\n",
       "      <td>3.796649</td>\n",
       "    </tr>\n",
       "    <tr>\n",
       "      <th>7</th>\n",
       "      <td>3.741150</td>\n",
       "      <td>0.073486</td>\n",
       "      <td>3.579408</td>\n",
       "      <td>3.902892</td>\n",
       "      <td>3.155357</td>\n",
       "      <td>4.326942</td>\n",
       "    </tr>\n",
       "    <tr>\n",
       "      <th>8</th>\n",
       "      <td>4.005834</td>\n",
       "      <td>0.078982</td>\n",
       "      <td>3.831995</td>\n",
       "      <td>4.179672</td>\n",
       "      <td>3.416587</td>\n",
       "      <td>4.595081</td>\n",
       "    </tr>\n",
       "    <tr>\n",
       "      <th>9</th>\n",
       "      <td>4.535202</td>\n",
       "      <td>0.096781</td>\n",
       "      <td>4.322188</td>\n",
       "      <td>4.748216</td>\n",
       "      <td>3.933233</td>\n",
       "      <td>5.137171</td>\n",
       "    </tr>\n",
       "    <tr>\n",
       "      <th>10</th>\n",
       "      <td>4.799886</td>\n",
       "      <td>0.107968</td>\n",
       "      <td>4.562251</td>\n",
       "      <td>5.037521</td>\n",
       "      <td>4.188770</td>\n",
       "      <td>5.411002</td>\n",
       "    </tr>\n",
       "    <tr>\n",
       "      <th>11</th>\n",
       "      <td>5.064570</td>\n",
       "      <td>0.120132</td>\n",
       "      <td>4.800162</td>\n",
       "      <td>5.328978</td>\n",
       "      <td>4.442554</td>\n",
       "      <td>5.686586</td>\n",
       "    </tr>\n",
       "    <tr>\n",
       "      <th>12</th>\n",
       "      <td>5.329254</td>\n",
       "      <td>0.133005</td>\n",
       "      <td>5.036512</td>\n",
       "      <td>5.621997</td>\n",
       "      <td>4.694676</td>\n",
       "      <td>5.963833</td>\n",
       "    </tr>\n",
       "  </tbody>\n",
       "</table>\n",
       "</div>"
      ],
      "text/plain": [
       "        mean   mean_se  mean_ci_lower  mean_ci_upper  obs_ci_lower  \\\n",
       "0   1.623677  0.126989       1.344176       1.903177      0.995097   \n",
       "1   1.888361  0.114415       1.636535       2.140187      1.271588   \n",
       "2   2.153045  0.102663       1.927085       2.379005      1.546374   \n",
       "3   2.417729  0.092048       2.215134       2.620324      1.819367   \n",
       "4   2.682413  0.083006       2.499719       2.865107      2.090493   \n",
       "5   2.947097  0.076100       2.779602       3.114593      2.359690   \n",
       "6   3.211781  0.071950       3.053421       3.370142      2.626914   \n",
       "7   3.741150  0.073486       3.579408       3.902892      3.155357   \n",
       "8   4.005834  0.078982       3.831995       4.179672      3.416587   \n",
       "9   4.535202  0.096781       4.322188       4.748216      3.933233   \n",
       "10  4.799886  0.107968       4.562251       5.037521      4.188770   \n",
       "11  5.064570  0.120132       4.800162       5.328978      4.442554   \n",
       "12  5.329254  0.133005       5.036512       5.621997      4.694676   \n",
       "\n",
       "    obs_ci_upper  \n",
       "0       2.252257  \n",
       "1       2.505134  \n",
       "2       2.759716  \n",
       "3       3.016091  \n",
       "4       3.274333  \n",
       "5       3.534504  \n",
       "6       3.796649  \n",
       "7       4.326942  \n",
       "8       4.595081  \n",
       "9       5.137171  \n",
       "10      5.411002  \n",
       "11      5.686586  \n",
       "12      5.963833  "
      ]
     },
     "execution_count": 64,
     "metadata": {},
     "output_type": "execute_result"
    }
   ],
   "source": [
    "pred_summary"
   ]
  },
  {
   "cell_type": "markdown",
   "id": "cccb5b8a-bf8a-4113-ae1b-e11722975dfe",
   "metadata": {},
   "source": [
    "## 5"
   ]
  },
  {
   "cell_type": "code",
   "execution_count": 80,
   "id": "ebfff428-ab2c-4971-849f-dc4e9c16b567",
   "metadata": {},
   "outputs": [
    {
     "name": "stdout",
     "output_type": "stream",
     "text": [
      "Coefficient of Determination (R²): 0.9634\n"
     ]
    }
   ],
   "source": [
    "print(f\"Coefficient of Determination (R²): {results.rsquared:.4f}\")\n"
   ]
  },
  {
   "cell_type": "markdown",
   "id": "c539567e-bc2c-4bd1-8fae-6fe56f5d0814",
   "metadata": {},
   "source": [
    "## 6"
   ]
  },
  {
   "cell_type": "code",
   "execution_count": 85,
   "id": "cd4c46da-934b-4c24-b9be-629be9872bc3",
   "metadata": {},
   "outputs": [
    {
     "name": "stdout",
     "output_type": "stream",
     "text": [
      "Pearson's r = 0.9815\n"
     ]
    }
   ],
   "source": [
    "r = np.corrcoef(x = age, y = wing)[0,1]\n",
    "\n",
    "print(f\"Pearson's r = {r:.4f}\")"
   ]
  },
  {
   "cell_type": "code",
   "execution_count": 86,
   "id": "51097d9e-2537-4c12-85a4-d27cf4e024a3",
   "metadata": {},
   "outputs": [
    {
     "data": {
      "text/plain": [
       "0.981520377681628"
      ]
     },
     "execution_count": 86,
     "metadata": {},
     "output_type": "execute_result"
    }
   ],
   "source": [
    "#just checking that it is the same as taking the square root of the r^2 value\n",
    "np.sqrt(results.rsquared)"
   ]
  },
  {
   "cell_type": "markdown",
   "id": "73be8727-e0b5-402f-99f9-c6bb9674c1a1",
   "metadata": {},
   "source": [
    "## 7 "
   ]
  },
  {
   "cell_type": "code",
   "execution_count": 97,
   "id": "38349b4d-d942-4020-ad93-48ae560222f9",
   "metadata": {},
   "outputs": [
    {
     "data": {
      "text/plain": [
       "Text(0, 0.5, 'Wing Length')"
      ]
     },
     "execution_count": 97,
     "metadata": {},
     "output_type": "execute_result"
    },
    {
     "data": {
      "image/png": "[encoded data removed]",
      "text/plain": [
       "<Figure size 640x480 with 1 Axes>"
      ]
     },
     "metadata": {},
     "output_type": "display_data"
    }
   ],
   "source": [
    "#ChatGPT used \n",
    "\n",
    "# Set the random seed for reproducibility\n",
    "np.random.seed(0)\n",
    "\n",
    "# Choose a noise level (e.g., standard deviation of the noise)\n",
    "noise_level = 2  # Adjust this value to control the amount of noise\n",
    "\n",
    "# Generate random noise\n",
    "noise = np.random.normal(0, noise_level, wing.shape)\n",
    "\n",
    "# Add noise to the original data\n",
    "wing_noisy = wing + noise\n",
    "\n",
    "plt.plot(age,wing_noisy, marker = \".\", linestyle = \"none\")\n",
    "plt.xlabel(\"Age\")\n",
    "plt.ylabel(\"Wing Length\")"
   ]
  },
  {
   "cell_type": "code",
   "execution_count": 99,
   "id": "6fc25db2-da91-4303-a778-8173e07c3c4b",
   "metadata": {},
   "outputs": [
    {
     "name": "stdout",
     "output_type": "stream",
     "text": [
      "                            OLS Regression Results                            \n",
      "==============================================================================\n",
      "Dep. Variable:                      y   R-squared:                       0.145\n",
      "Model:                            OLS   Adj. R-squared:                  0.067\n",
      "Method:                 Least Squares   F-statistic:                     1.868\n",
      "Date:                Sun, 29 Sep 2024   Prob (F-statistic):              0.199\n",
      "Time:                        12:44:49   Log-Likelihood:                -25.412\n",
      "No. Observations:                  13   AIC:                             54.82\n",
      "Df Residuals:                      11   BIC:                             55.95\n",
      "Df Model:                           1                                         \n",
      "Covariance Type:            nonrobust                                         \n",
      "==============================================================================\n",
      "                 coef    std err          t      P>|t|      [0.025      0.975]\n",
      "------------------------------------------------------------------------------\n",
      "const          3.4050      1.218      2.795      0.017       0.724       6.086\n",
      "x1             0.1544      0.113      1.367      0.199      -0.094       0.403\n",
      "==============================================================================\n",
      "Omnibus:                        0.142   Durbin-Watson:                   2.183\n",
      "Prob(Omnibus):                  0.931   Jarque-Bera (JB):                0.343\n",
      "Skew:                          -0.139   Prob(JB):                        0.843\n",
      "Kurtosis:                       2.255   Cond. No.                         25.7\n",
      "==============================================================================\n",
      "\n",
      "Notes:\n",
      "[1] Standard Errors assume that the covariance matrix of the errors is correctly specified.\n"
     ]
    },
    {
     "name": "stderr",
     "output_type": "stream",
     "text": [
      "/opt/anaconda3/lib/python3.12/site-packages/scipy/stats/_stats_py.py:1971: UserWarning: kurtosistest only valid for n>=20 ... continuing anyway, n=13\n",
      "  k, _ = kurtosistest(a, axis)\n"
     ]
    }
   ],
   "source": [
    "X = age.reshape(-1, 1)\n",
    "X = sm.add_constant(X)  # Adds a constant term (intercept) to the model\n",
    "model = sm.OLS(wing_noisy,X)  # OLS stands for Ordinary Least Squares\n",
    "results = model.fit()  # Fit the model\n",
    "\n",
    "X = age.reshape(-1, 1)\n",
    "X = sm.add_constant(X)  # Adds a constant term (intercept) to the model\n",
    "model = sm.OLS(wing_noisy,X)  # OLS stands for Ordinary Least Squares\n",
    "results = model.fit()  # Fit the model\n",
    "\n",
    "print(results.summary())"
   ]
  },
  {
   "cell_type": "code",
   "execution_count": 100,
   "id": "49e956a2-2389-4ff0-8a3e-7281ffc27b9a",
   "metadata": {},
   "outputs": [
    {
     "name": "stdout",
     "output_type": "stream",
     "text": [
      "Slope confidence interval: [-0.0942535   0.40314026]\n"
     ]
    },
    {
     "data": {
      "text/plain": [
       "Text(0.5, 1.0, 'Regression Line with Confidence Interval on Slope')"
      ]
     },
     "execution_count": 100,
     "metadata": {},
     "output_type": "execute_result"
    },
    {
     "data": {
      "image/png": "[encoded data removed]",
      "text/plain": [
       "<Figure size 640x480 with 1 Axes>"
      ]
     },
     "metadata": {},
     "output_type": "display_data"
    }
   ],
   "source": [
    "#from CHATGPT\n",
    "\n",
    "\n",
    "# Get the regression parameters (slope and intercept)\n",
    "slope = results.params[1]\n",
    "intercept = results.params[0]\n",
    "\n",
    "# Get the confidence intervals for the slope and intercept\n",
    "conf_intervals = results.conf_int()\n",
    "\n",
    "# Extract the confidence intervals for the slope\n",
    "slope_conf_interval = conf_intervals[1]\n",
    "print(f\"Slope confidence interval: {slope_conf_interval}\")\n",
    "\n",
    "# Plotting the data points\n",
    "plt.scatter(age, wing_noisy, label=\"Data points\", color=\"blue\")\n",
    "\n",
    "# Plotting the regression line\n",
    "plt.plot(age, intercept + slope * age, color=\"red\", label=\"Regression line\")\n",
    "\n",
    "# Calculate confidence intervals for the regression line\n",
    "predictions = results.get_prediction(X)\n",
    "pred_summary = predictions.summary_frame(alpha=0.05)\n",
    "\n",
    "# Plot the confidence interval bands\n",
    "plt.fill_between(age, pred_summary['mean_ci_lower'], pred_summary['mean_ci_upper'], color='gray', alpha=0.3, label=\"Confidence interval\")\n",
    "\n",
    "plt.xlabel('Age')\n",
    "plt.ylabel('Wing Length')\n",
    "plt.legend()\n",
    "plt.title('Regression Line with Confidence Interval on Slope')\n"
   ]
  },
  {
   "cell_type": "code",
   "execution_count": 103,
   "id": "4223e99f-9557-4197-ab12-14613a84a194",
   "metadata": {},
   "outputs": [
    {
     "name": "stdout",
     "output_type": "stream",
     "text": [
      "Coefficient of Determination (R²): 0.1452\n",
      "Pearson's r = 0.3810\n"
     ]
    }
   ],
   "source": [
    "print(f\"Coefficient of Determination (R²): {results.rsquared:.4f}\")\n",
    "r = np.corrcoef(x = age, y = wing_noisy)[0,1]\n",
    "\n",
    "print(f\"Pearson's r = {r:.4f}\")"
   ]
  },
  {
   "cell_type": "code",
   "execution_count": null,
   "id": "82f450d5-c925-4130-9a82-77ce9bbe7012",
   "metadata": {},
   "outputs": [],
   "source": []
  }
 ],
 "metadata": {
  "kernelspec": {
   "display_name": "Python 3 (ipykernel)",
   "language": "python",
   "name": "python3"
  },
  "language_info": {
   "codemirror_mode": {
    "name": "ipython",
    "version": 3
   },
   "file_extension": ".py",
   "mimetype": "text/x-python",
   "name": "python",
   "nbconvert_exporter": "python",
   "pygments_lexer": "ipython3",
   "version": "3.12.2"
  }
 },
 "nbformat": 4,
 "nbformat_minor": 5
}
